{
 "cells": [
  {
   "cell_type": "code",
   "execution_count": 7,
   "id": "791bf1a9-ade5-4130-bf05-59e228cf38f0",
   "metadata": {},
   "outputs": [
    {
     "name": "stdout",
     "output_type": "stream",
     "text": [
      "Posted new content to Reddit: \"Wake up to the misty mornings, breathe in the fresh mountain air, and let the serene landscapes of this enchanting hill station rejuvenate your soul #HillStationVibes #NatureEscape #MountainLove\"\n"
     ]
    },
    {
     "ename": "KeyboardInterrupt",
     "evalue": "",
     "output_type": "error",
     "traceback": [
      "\u001b[1;31m---------------------------------------------------------------------------\u001b[0m",
      "\u001b[1;31mKeyboardInterrupt\u001b[0m                         Traceback (most recent call last)",
      "Cell \u001b[1;32mIn[7], line 61\u001b[0m\n\u001b[0;32m     59\u001b[0m \u001b[38;5;28;01mwhile\u001b[39;00m \u001b[38;5;28;01mTrue\u001b[39;00m:\n\u001b[0;32m     60\u001b[0m     schedule\u001b[38;5;241m.\u001b[39mrun_pending()\n\u001b[1;32m---> 61\u001b[0m     time\u001b[38;5;241m.\u001b[39msleep(\u001b[38;5;241m60\u001b[39m)\n",
      "\u001b[1;31mKeyboardInterrupt\u001b[0m: "
     ]
    }
   ],
   "source": [
    "#Required Libraries\n",
    "import praw  \n",
    "import requests  \n",
    "import schedule  \n",
    "import time\n",
    "from langchain.prompts import ChatPromptTemplate\n",
    "from langchain.chains import LLMChain\n",
    "from langchain_groq import ChatGroq\n",
    "\n",
    "\n",
    "# Reddit API authentication\n",
    "reddit = praw.Reddit(\n",
    "    client_id=\"hhgvDuiRrFCJoyzgXylQdQ\",\n",
    "    client_secret=\"qLUPVLD1ig1bg3picudrM_6WOkQeNA\",\n",
    "    user_agent=\"AI Bot Development/1.0 by Economy-Ad7251\",\n",
    "    username=\"Economy-Ad7251\",\n",
    "    password=\"P.......8\",\n",
    ")\n",
    "\n",
    "# LLM Model\n",
    "llm = ChatGroq(\n",
    "    model=\"llama-3.1-70b-versatile\",\n",
    "    temperature=0.5,\n",
    "    timeout=None,\n",
    "    max_retries=2,\n",
    "    api_key='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'\n",
    ")\n",
    "\n",
    "# Prompt for Model\n",
    "prompt = ChatPromptTemplate.from_messages(\n",
    "    [\n",
    "        (\"system\", \"Create a daily post. Don't provide preamble.\"),\n",
    "        (\"human\", \"{input}\"),\n",
    "    ]\n",
    ")\n",
    "\n",
    "\n",
    "chain = LLMChain(prompt=prompt, llm=llm)\n",
    "\n",
    "# Function for generating content\n",
    "def generate_content():\n",
    "    input_text = 'Give a caption for a hill station'\n",
    "    result = chain.run(input_text)\n",
    "    return result\n",
    "\n",
    "# Function to post on Reddit\n",
    "def post_to_reddit():\n",
    "    content = generate_content()\n",
    "    if content:\n",
    "        reddit.subreddit('test').submit(title=\"AI Daily Post\", selftext=content)\n",
    "        print(f\"Posted new content to Reddit: {content}\")\n",
    "    else:\n",
    "        print(\"Failed to generate content.\")\n",
    "\n",
    "# Schedule to post daily\n",
    "schedule.every().day.at(\"16:09\").do(post_to_reddit)\n",
    "\n",
    "# Run the scheduler\n",
    "while True:\n",
    "    schedule.run_pending()\n",
    "    time.sleep(60)"
   ]
  },
  {
   "cell_type": "code",
   "execution_count": null,
   "id": "01a10de3-20f4-4925-90f8-a93d044fedd7",
   "metadata": {},
   "outputs": [],
   "source": []
  }
 ],
 "metadata": {
  "kernelspec": {
   "display_name": "Python [conda env:base] *",
   "language": "python",
   "name": "conda-base-py"
  },
  "language_info": {
   "codemirror_mode": {
    "name": "ipython",
    "version": 3
   },
   "file_extension": ".py",
   "mimetype": "text/x-python",
   "name": "python",
   "nbconvert_exporter": "python",
   "pygments_lexer": "ipython3",
   "version": "3.11.5"
  },
  "widgets": {
   "application/vnd.jupyter.widget-state+json": {
    "state": {},
    "version_major": 2,
    "version_minor": 0
   }
  }
 },
 "nbformat": 4,
 "nbformat_minor": 5
}
